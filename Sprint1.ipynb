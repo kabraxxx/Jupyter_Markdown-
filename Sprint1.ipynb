{
 "cells": [
  {
   "cell_type": "code",
   "execution_count": 1,
   "id": "28e6c362",
   "metadata": {},
   "outputs": [
    {
     "name": "stdout",
     "output_type": "stream",
     "text": [
      "Hello Jupiter\n"
     ]
    }
   ],
   "source": [
    "print(\"Hello Jupiter\")"
   ]
  },
  {
   "cell_type": "markdown",
   "id": "ee957077",
   "metadata": {},
   "source": [
    "User single _undescores_ or single *asterisks* to get italics or **bold**"
   ]
  },
  {
   "cell_type": "markdown",
   "id": "3efbf077",
   "metadata": {},
   "source": [
    "# Header 1\n",
    "## Header 2\n",
    "## header 3"
   ]
  },
  {
   "cell_type": "markdown",
   "id": "ed8ce704",
   "metadata": {},
   "source": [
    "* item 1\n",
    "* item 2\n",
    "* item 3\n",
    "    * sub-item 1"
   ]
  },
  {
   "cell_type": "code",
   "execution_count": 6,
   "id": "07442ccd",
   "metadata": {},
   "outputs": [
    {
     "name": "stdout",
     "output_type": "stream",
     "text": [
      "Syntac for Python\n"
     ]
    }
   ],
   "source": [
    "s = \"Syntac for Python\"\n",
    "print(s)"
   ]
  },
  {
   "cell_type": "code",
   "execution_count": 23,
   "id": "4d1bee1f",
   "metadata": {
    "scrolled": true
   },
   "outputs": [
    {
     "name": "stdout",
     "output_type": "stream",
     "text": [
      "Result of  1  +  2  =  3\n"
     ]
    }
   ],
   "source": [
    "x=1\n",
    "y=2\n",
    "z=x+y\n",
    "print(\"Result of \",x,\" + \",y,\" = \", z )"
   ]
  },
  {
   "cell_type": "code",
   "execution_count": null,
   "id": "7e1cbce0",
   "metadata": {},
   "outputs": [],
   "source": []
  }
 ],
 "metadata": {
  "kernelspec": {
   "display_name": "Python 3 (ipykernel)",
   "language": "python",
   "name": "python3"
  },
  "language_info": {
   "codemirror_mode": {
    "name": "ipython",
    "version": 3
   },
   "file_extension": ".py",
   "mimetype": "text/x-python",
   "name": "python",
   "nbconvert_exporter": "python",
   "pygments_lexer": "ipython3",
   "version": "3.9.12"
  },
  "latex_envs": {
   "LaTeX_envs_menu_present": true,
   "autoclose": false,
   "autocomplete": true,
   "bibliofile": "biblio.bib",
   "cite_by": "apalike",
   "current_citInitial": 1,
   "eqLabelWithNumbers": true,
   "eqNumInitial": 1,
   "hotkeys": {
    "equation": "Ctrl-E",
    "itemize": "Ctrl-I"
   },
   "labels_anchors": false,
   "latex_user_defs": false,
   "report_style_numbering": false,
   "user_envs_cfg": false
  }
 },
 "nbformat": 4,
 "nbformat_minor": 5
}
